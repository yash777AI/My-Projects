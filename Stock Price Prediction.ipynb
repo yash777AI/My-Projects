{
 "cells": [
  {
   "cell_type": "code",
   "execution_count": 4,
   "metadata": {},
   "outputs": [],
   "source": [
    "# let's import some important libraries\n",
    "import pandas as pd \n",
    "import numpy as np \n",
    "import matplotlib.pyplot as plt \n",
    "from sklearn.preprocessing import MinMaxScaler \n",
    "from keras.models import Sequential, load_model \n",
    "from keras.layers import LSTM, Dense, Dropout "
   ]
  },
  {
   "cell_type": "code",
   "execution_count": 5,
   "metadata": {},
   "outputs": [],
   "source": [
    "#Here we are loading and reading the dataset\n",
    "df = pd.read_csv('TSLA.csv')"
   ]
  },
  {
   "cell_type": "code",
   "execution_count": 6,
   "metadata": {},
   "outputs": [
    {
     "data": {
      "text/html": [
       "<div>\n",
       "<style scoped>\n",
       "    .dataframe tbody tr th:only-of-type {\n",
       "        vertical-align: middle;\n",
       "    }\n",
       "\n",
       "    .dataframe tbody tr th {\n",
       "        vertical-align: top;\n",
       "    }\n",
       "\n",
       "    .dataframe thead th {\n",
       "        text-align: right;\n",
       "    }\n",
       "</style>\n",
       "<table border=\"1\" class=\"dataframe\">\n",
       "  <thead>\n",
       "    <tr style=\"text-align: right;\">\n",
       "      <th></th>\n",
       "      <th>Date</th>\n",
       "      <th>Open</th>\n",
       "      <th>High</th>\n",
       "      <th>Low</th>\n",
       "      <th>Close</th>\n",
       "      <th>Adj Close</th>\n",
       "      <th>Volume</th>\n",
       "    </tr>\n",
       "  </thead>\n",
       "  <tbody>\n",
       "    <tr>\n",
       "      <th>0</th>\n",
       "      <td>2010-07-01</td>\n",
       "      <td>5.000000</td>\n",
       "      <td>5.184000</td>\n",
       "      <td>4.054000</td>\n",
       "      <td>4.392000</td>\n",
       "      <td>4.392000</td>\n",
       "      <td>41094000</td>\n",
       "    </tr>\n",
       "    <tr>\n",
       "      <th>1</th>\n",
       "      <td>2010-07-02</td>\n",
       "      <td>4.600000</td>\n",
       "      <td>4.620000</td>\n",
       "      <td>3.742000</td>\n",
       "      <td>3.840000</td>\n",
       "      <td>3.840000</td>\n",
       "      <td>25699000</td>\n",
       "    </tr>\n",
       "    <tr>\n",
       "      <th>2</th>\n",
       "      <td>2010-07-06</td>\n",
       "      <td>4.000000</td>\n",
       "      <td>4.000000</td>\n",
       "      <td>3.166000</td>\n",
       "      <td>3.222000</td>\n",
       "      <td>3.222000</td>\n",
       "      <td>34334500</td>\n",
       "    </tr>\n",
       "    <tr>\n",
       "      <th>3</th>\n",
       "      <td>2010-07-07</td>\n",
       "      <td>3.280000</td>\n",
       "      <td>3.326000</td>\n",
       "      <td>2.996000</td>\n",
       "      <td>3.160000</td>\n",
       "      <td>3.160000</td>\n",
       "      <td>34608500</td>\n",
       "    </tr>\n",
       "    <tr>\n",
       "      <th>4</th>\n",
       "      <td>2010-07-08</td>\n",
       "      <td>3.228000</td>\n",
       "      <td>3.504000</td>\n",
       "      <td>3.114000</td>\n",
       "      <td>3.492000</td>\n",
       "      <td>3.492000</td>\n",
       "      <td>38557000</td>\n",
       "    </tr>\n",
       "    <tr>\n",
       "      <th>...</th>\n",
       "      <td>...</td>\n",
       "      <td>...</td>\n",
       "      <td>...</td>\n",
       "      <td>...</td>\n",
       "      <td>...</td>\n",
       "      <td>...</td>\n",
       "      <td>...</td>\n",
       "    </tr>\n",
       "    <tr>\n",
       "      <th>2387</th>\n",
       "      <td>2019-12-24</td>\n",
       "      <td>83.671997</td>\n",
       "      <td>85.094002</td>\n",
       "      <td>82.538002</td>\n",
       "      <td>85.050003</td>\n",
       "      <td>85.050003</td>\n",
       "      <td>40273500</td>\n",
       "    </tr>\n",
       "    <tr>\n",
       "      <th>2388</th>\n",
       "      <td>2019-12-26</td>\n",
       "      <td>85.582001</td>\n",
       "      <td>86.695999</td>\n",
       "      <td>85.269997</td>\n",
       "      <td>86.188004</td>\n",
       "      <td>86.188004</td>\n",
       "      <td>53169500</td>\n",
       "    </tr>\n",
       "    <tr>\n",
       "      <th>2389</th>\n",
       "      <td>2019-12-27</td>\n",
       "      <td>87.000000</td>\n",
       "      <td>87.061996</td>\n",
       "      <td>85.222000</td>\n",
       "      <td>86.075996</td>\n",
       "      <td>86.075996</td>\n",
       "      <td>49728500</td>\n",
       "    </tr>\n",
       "    <tr>\n",
       "      <th>2390</th>\n",
       "      <td>2019-12-30</td>\n",
       "      <td>85.758003</td>\n",
       "      <td>85.800003</td>\n",
       "      <td>81.851997</td>\n",
       "      <td>82.940002</td>\n",
       "      <td>82.940002</td>\n",
       "      <td>62932000</td>\n",
       "    </tr>\n",
       "    <tr>\n",
       "      <th>2391</th>\n",
       "      <td>2019-12-31</td>\n",
       "      <td>81.000000</td>\n",
       "      <td>84.258003</td>\n",
       "      <td>80.416000</td>\n",
       "      <td>83.666000</td>\n",
       "      <td>83.666000</td>\n",
       "      <td>51428500</td>\n",
       "    </tr>\n",
       "  </tbody>\n",
       "</table>\n",
       "<p>2392 rows × 7 columns</p>\n",
       "</div>"
      ],
      "text/plain": [
       "            Date       Open       High        Low      Close  Adj Close  \\\n",
       "0     2010-07-01   5.000000   5.184000   4.054000   4.392000   4.392000   \n",
       "1     2010-07-02   4.600000   4.620000   3.742000   3.840000   3.840000   \n",
       "2     2010-07-06   4.000000   4.000000   3.166000   3.222000   3.222000   \n",
       "3     2010-07-07   3.280000   3.326000   2.996000   3.160000   3.160000   \n",
       "4     2010-07-08   3.228000   3.504000   3.114000   3.492000   3.492000   \n",
       "...          ...        ...        ...        ...        ...        ...   \n",
       "2387  2019-12-24  83.671997  85.094002  82.538002  85.050003  85.050003   \n",
       "2388  2019-12-26  85.582001  86.695999  85.269997  86.188004  86.188004   \n",
       "2389  2019-12-27  87.000000  87.061996  85.222000  86.075996  86.075996   \n",
       "2390  2019-12-30  85.758003  85.800003  81.851997  82.940002  82.940002   \n",
       "2391  2019-12-31  81.000000  84.258003  80.416000  83.666000  83.666000   \n",
       "\n",
       "        Volume  \n",
       "0     41094000  \n",
       "1     25699000  \n",
       "2     34334500  \n",
       "3     34608500  \n",
       "4     38557000  \n",
       "...        ...  \n",
       "2387  40273500  \n",
       "2388  53169500  \n",
       "2389  49728500  \n",
       "2390  62932000  \n",
       "2391  51428500  \n",
       "\n",
       "[2392 rows x 7 columns]"
      ]
     },
     "execution_count": 6,
     "metadata": {},
     "output_type": "execute_result"
    }
   ],
   "source": [
    "df"
   ]
  },
  {
   "cell_type": "code",
   "execution_count": 7,
   "metadata": {},
   "outputs": [
    {
     "data": {
      "text/plain": [
       "(2392, 7)"
      ]
     },
     "execution_count": 7,
     "metadata": {},
     "output_type": "execute_result"
    }
   ],
   "source": [
    "#here we are reshaping the dataset using the variable open in order to get our trading days\n",
    "df.shape"
   ]
  },
  {
   "cell_type": "code",
   "execution_count": 8,
   "metadata": {},
   "outputs": [],
   "source": [
    "#The reshape allows you to add dimensions or change the number of elements in each dimension.\n",
    "#We are using reshape(-1, 1) because we have just one dimension in our array, \n",
    "#so numby will create the same number of our rows and add one more axis: 1 to be the second dimension.\n",
    "df = df['Open'].values\n",
    "df = df.reshape(-1, 1)"
   ]
  },
  {
   "cell_type": "code",
   "execution_count": 6,
   "metadata": {},
   "outputs": [
    {
     "data": {
      "text/plain": [
       "(2392, 1)"
      ]
     },
     "execution_count": 6,
     "metadata": {},
     "output_type": "execute_result"
    }
   ],
   "source": [
    "df.shape"
   ]
  },
  {
   "cell_type": "code",
   "execution_count": 10,
   "metadata": {},
   "outputs": [
    {
     "name": "stdout",
     "output_type": "stream",
     "text": [
      "(1913, 1)\n",
      "(479, 1)\n"
     ]
    }
   ],
   "source": [
    "#let’s split the data into training and testing sets\n",
    "dataset_train = np.array(df[:int(df.shape[0]*0.8)])\n",
    "dataset_test = np.array(df[int(df.shape[0]*0.8):])\n",
    "print(dataset_train.shape)\n",
    "print(dataset_test.shape)"
   ]
  },
  {
   "cell_type": "code",
   "execution_count": 11,
   "metadata": {},
   "outputs": [
    {
     "data": {
      "text/plain": [
       "array([[0.0239104 ],\n",
       "       [0.01851302],\n",
       "       [0.01041695],\n",
       "       [0.00070166],\n",
       "       [0.        ]])"
      ]
     },
     "execution_count": 11,
     "metadata": {},
     "output_type": "execute_result"
    }
   ],
   "source": [
    "#We will use the MinMaxScaler to scale our data between zero and one. \n",
    "#In simpler words, the scaling is converting the numerical data represented in a wide range into a smaller one.\n",
    "scaler = MinMaxScaler(feature_range=(0,1))\n",
    "dataset_train = scaler.fit_transform(dataset_train)\n",
    "dataset_train[:5]"
   ]
  },
  {
   "cell_type": "code",
   "execution_count": 12,
   "metadata": {},
   "outputs": [
    {
     "data": {
      "text/plain": [
       "array([[0.8340845 ],\n",
       "       [0.87127243],\n",
       "       [0.88293085],\n",
       "       [0.81983541],\n",
       "       [0.80958041]])"
      ]
     },
     "execution_count": 12,
     "metadata": {},
     "output_type": "execute_result"
    }
   ],
   "source": [
    "dataset_test = scaler.transform(dataset_test)\n",
    "dataset_test[:5]"
   ]
  },
  {
   "cell_type": "code",
   "execution_count": 13,
   "metadata": {},
   "outputs": [],
   "source": [
    "#Here we will use the numpy package for the array conversion\n",
    "def create_dataset(df):# Her we are creating the function that will help us to create the dataset \n",
    "    x = [] #For the features (x), we will always append the last 50 prices\n",
    "    y = [] # And for the label (y), we will append the next price.\n",
    "    for i in range(50, df.shape[0]):\n",
    "        x.append(df[i-50:i, 0])\n",
    "        y.append(df[i, 0])\n",
    "    x = np.array(x)\n",
    "    y = np.array(y)\n",
    "    return x,y "
   ]
  },
  {
   "cell_type": "code",
   "execution_count": 15,
   "metadata": {},
   "outputs": [],
   "source": [
    "#here we are creating the data  by calling the previous function of the train as well as the test datasets\n",
    "x_train, y_train = create_dataset(dataset_train)\n",
    "x_test, y_test = create_dataset(dataset_test)"
   ]
  },
  {
   "cell_type": "code",
   "execution_count": 16,
   "metadata": {},
   "outputs": [],
   "source": [
    "model = Sequential()\n",
    "model.add(LSTM(units=96, return_sequences=True, input_shape=(x_train.shape[1], 1)))\n",
    "model.add(Dropout(0.2))#here we are Making the dropout fraction 0.2 drops 20% of the layers\n",
    "model.add(LSTM(units=96, return_sequences=True))\n",
    "model.add(Dropout(0.2))\n",
    "model.add(LSTM(units=96, return_sequences=True))\n",
    "model.add(Dropout(0.2))\n",
    "model.add(LSTM(units=96))\n",
    "model.add(Dropout(0.2))\n",
    "model.add(Dense(units=1))"
   ]
  },
  {
   "cell_type": "code",
   "execution_count": 17,
   "metadata": {},
   "outputs": [],
   "source": [
    "#here we are again reshaping the data in order to make it 3D Array \n",
    "x_train = np.reshape(x_train, (x_train.shape[0], x_train.shape[1], 1))\n",
    "x_test = np.reshape(x_test, (x_test.shape[0], x_test.shape[1], 1))"
   ]
  },
  {
   "cell_type": "code",
   "execution_count": 18,
   "metadata": {},
   "outputs": [],
   "source": [
    "#Let's compile our model\n",
    "model.compile(loss='mean_squared_error', optimizer='adam')"
   ]
  },
  {
   "cell_type": "code",
   "execution_count": 19,
   "metadata": {},
   "outputs": [
    {
     "name": "stdout",
     "output_type": "stream",
     "text": [
      "Epoch 1/50\n",
      "59/59 [==============================] - 22s 189ms/step - loss: 0.01942\n",
      "Epoch 2/50\n",
      "59/59 [==============================] - 11s 180ms/step - loss: 0.0035\n",
      "Epoch 3/50\n",
      "59/59 [==============================] - 11s 184ms/step - loss: 0.0041\n",
      "Epoch 4/50\n",
      "59/59 [==============================] - 11s 184ms/step - loss: 0.0036\n",
      "Epoch 5/50\n",
      "59/59 [==============================] - 10s 174ms/step - loss: 0.0026\n",
      "Epoch 6/50\n",
      "59/59 [==============================] - 10s 177ms/step - loss: 0.0028\n",
      "Epoch 7/50\n",
      "59/59 [==============================] - 10s 169ms/step - loss: 0.0026\n",
      "Epoch 8/50\n",
      "59/59 [==============================] - 10s 170ms/step - loss: 0.00231s - l\n",
      "Epoch 9/50\n",
      "59/59 [==============================] - 11s 183ms/step - loss: 0.0026\n",
      "Epoch 10/50\n",
      "59/59 [==============================] - 11s 180ms/step - loss: 0.0024\n",
      "Epoch 11/50\n",
      "59/59 [==============================] - 11s 189ms/step - loss: 0.0025\n",
      "Epoch 12/50\n",
      "59/59 [==============================] - 11s 183ms/step - loss: 0.0021\n",
      "Epoch 13/50\n",
      "59/59 [==============================] - 11s 187ms/step - loss: 0.0020\n",
      "Epoch 14/50\n",
      "59/59 [==============================] - 11s 181ms/step - loss: 0.0021\n",
      "Epoch 15/50\n",
      "59/59 [==============================] - 11s 185ms/step - loss: 0.0023\n",
      "Epoch 16/50\n",
      "59/59 [==============================] - 11s 183ms/step - loss: 0.0024\n",
      "Epoch 17/50\n",
      "59/59 [==============================] - 11s 182ms/step - loss: 0.0020\n",
      "Epoch 18/50\n",
      "59/59 [==============================] - 11s 184ms/step - loss: 0.0018\n",
      "Epoch 19/50\n",
      "59/59 [==============================] - 11s 184ms/step - loss: 0.0018\n",
      "Epoch 20/50\n",
      "59/59 [==============================] - 11s 182ms/step - loss: 0.0017\n",
      "Epoch 21/50\n",
      "59/59 [==============================] - 11s 182ms/step - loss: 0.00193s - loss: - ETA: 2s - \n",
      "Epoch 22/50\n",
      "59/59 [==============================] - 11s 183ms/step - loss: 0.0018\n",
      "Epoch 23/50\n",
      "59/59 [==============================] - 11s 180ms/step - loss: 0.00170s - loss: 0.0\n",
      "Epoch 24/50\n",
      "59/59 [==============================] - 10s 171ms/step - loss: 0.0016\n",
      "Epoch 25/50\n",
      "59/59 [==============================] - 11s 182ms/step - loss: 0.0017\n",
      "Epoch 26/50\n",
      "59/59 [==============================] - 11s 180ms/step - loss: 0.0014\n",
      "Epoch 27/50\n",
      "59/59 [==============================] - 11s 184ms/step - loss: 0.0020\n",
      "Epoch 28/50\n",
      "59/59 [==============================] - 11s 183ms/step - loss: 0.0017\n",
      "Epoch 29/50\n",
      "59/59 [==============================] - 10s 177ms/step - loss: 0.00150s - loss: \n",
      "Epoch 30/50\n",
      "59/59 [==============================] - 11s 185ms/step - loss: 0.00132s -\n",
      "Epoch 31/50\n",
      "59/59 [==============================] - 11s 182ms/step - loss: 0.0015\n",
      "Epoch 32/50\n",
      "59/59 [==============================] - 11s 181ms/step - loss: 0.00130s - loss: 0\n",
      "Epoch 33/50\n",
      "59/59 [==============================] - 11s 181ms/step - loss: 0.0016\n",
      "Epoch 34/50\n",
      "59/59 [==============================] - 10s 177ms/step - loss: 0.0016\n",
      "Epoch 35/50\n",
      "59/59 [==============================] - 11s 182ms/step - loss: 0.0013\n",
      "Epoch 36/50\n",
      "59/59 [==============================] - 11s 179ms/step - loss: 0.0013\n",
      "Epoch 37/50\n",
      "59/59 [==============================] - 11s 185ms/step - loss: 0.0013\n",
      "Epoch 38/50\n",
      "59/59 [==============================] - 11s 181ms/step - loss: 0.0013\n",
      "Epoch 39/50\n",
      "59/59 [==============================] - 11s 186ms/step - loss: 0.0014\n",
      "Epoch 40/50\n",
      "59/59 [==============================] - 11s 183ms/step - loss: 0.0013\n",
      "Epoch 41/50\n",
      "59/59 [==============================] - 11s 184ms/step - loss: 0.0013\n",
      "Epoch 42/50\n",
      "59/59 [==============================] - 11s 184ms/step - loss: 0.0011\n",
      "Epoch 43/50\n",
      "59/59 [==============================] - 11s 186ms/step - loss: 0.0012\n",
      "Epoch 44/50\n",
      "59/59 [==============================] - 11s 183ms/step - loss: 0.00112\n",
      "Epoch 45/50\n",
      "59/59 [==============================] - 11s 185ms/step - loss: 0.0011\n",
      "Epoch 46/50\n",
      "59/59 [==============================] - 11s 187ms/step - loss: 0.0011\n",
      "Epoch 47/50\n",
      "59/59 [==============================] - 11s 185ms/step - loss: 0.0011\n",
      "Epoch 48/50\n",
      "59/59 [==============================] - 11s 187ms/step - loss: 0.0011\n",
      "Epoch 49/50\n",
      "59/59 [==============================] - 11s 186ms/step - loss: 0.0012\n",
      "Epoch 50/50\n",
      "59/59 [==============================] - 11s 186ms/step - loss: 0.0012\n"
     ]
    }
   ],
   "source": [
    "model.fit(x_train, y_train, epochs=50, batch_size=32)\n",
    "model.save('stock_prediction.h5')"
   ]
  },
  {
   "cell_type": "code",
   "execution_count": 20,
   "metadata": {},
   "outputs": [],
   "source": [
    "#let's load our model\n",
    "model = load_model('stock_prediction.h5')"
   ]
  },
  {
   "cell_type": "code",
   "execution_count": 21,
   "metadata": {},
   "outputs": [
    {
     "data": {
      "text/plain": [
       "<matplotlib.legend.Legend at 0x1396e35d370>"
      ]
     },
     "execution_count": 21,
     "metadata": {},
     "output_type": "execute_result"
    },
    {
     "data": {
      "image/png": "[encoded data removed]",
      "text/plain": [
       "<Figure size 1152x576 with 1 Axes>"
      ]
     },
     "metadata": {
      "needs_background": "light"
     },
     "output_type": "display_data"
    }
   ],
   "source": [
    "# Result visulization\n",
    "predictions = model.predict(x_test)\n",
    "predictions = scaler.inverse_transform(predictions)\n",
    "y_test_scaled = scaler.inverse_transform(y_test.reshape(-1, 1))\n",
    "\n",
    "fig, ax = plt.subplots(figsize=(16,8))\n",
    "ax.set_facecolor('#000041')\n",
    "ax.plot(y_test_scaled, color='red', label='Original price')\n",
    "plt.plot(predictions, color='cyan', label='Predicted price')\n",
    "plt.legend()"
   ]
  }
 ],
 "metadata": {
  "kernelspec": {
   "display_name": "Python 3",
   "language": "python",
   "name": "python3"
  },
  "language_info": {
   "codemirror_mode": {
    "name": "ipython",
    "version": 3
   },
   "file_extension": ".py",
   "mimetype": "text/x-python",
   "name": "python",
   "nbconvert_exporter": "python",
   "pygments_lexer": "ipython3",
   "version": "3.8.5"
  }
 },
 "nbformat": 4,
 "nbformat_minor": 4
}
